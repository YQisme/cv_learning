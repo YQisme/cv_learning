{
 "cells": [
  {
   "cell_type": "code",
   "execution_count": 1,
   "metadata": {},
   "outputs": [
    {
     "name": "stderr",
     "output_type": "stream",
     "text": [
      "d:\\anaconda3\\envs\\pytorch\\lib\\site-packages\\torchvision\\io\\image.py:11: UserWarning: Failed to load image Python extension: Could not find module 'D:\\anaconda3\\envs\\pytorch\\Lib\\site-packages\\torchvision\\image.pyd' (or one of its dependencies). Try using the full path with constructor syntax.\n",
      "  warn(f\"Failed to load image Python extension: {e}\")\n"
     ]
    }
   ],
   "source": [
    "from torch.utils.data import DataLoader\n",
    "import torchvision.datasets as datasets\n",
    "import torchvision\n",
    "import torchvision.transforms as transforms\n",
    "\n",
    "transform = transforms.Compose(\n",
    "    [\n",
    "        transforms.ToTensor(),\n",
    "        transforms.Normalize(\n",
    "            (0.1307,), (0.3081,)\n",
    "        ),  # 注意Mnist是灰度图，彩色图像应该是  transforms.Normalize((0.5, 0.5, 0.5), (0.5, 0.5, 0.5))\n",
    "    ]\n",
    ")\n",
    "\n",
    "batch_size = 32\n",
    "trainset = datasets.MNIST(\n",
    "    root=\"./data\", train=True, download=True, transform=transform\n",
    ")\n",
    "trainloader = DataLoader(\n",
    "    trainset, batch_size=batch_size, shuffle=True, num_workers=2\n",
    ")\n",
    "\n",
    "classes = (\"0\", \"1\", \"2\", \"3\", \"4\", \"5\", \"6\", \"7\", \"8\", \"9\")\n"
   ]
  },
  {
   "cell_type": "code",
   "execution_count": 2,
   "metadata": {},
   "outputs": [
    {
     "data": {
      "application/vnd.plotly.v1+json": {
       "config": {
        "plotlyServerURL": "https://plot.ly"
       },
       "data": [
        {
         "hovertemplate": "x: %{x}<br>y: %{y}<extra></extra>",
         "name": "0",
         "source": "data:image/png;base64,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",
         "type": "image",
         "xaxis": "x",
         "yaxis": "y"
        }
       ],
       "layout": {
        "margin": {
         "t": 60
        },
        "template": {
         "data": {
          "bar": [
           {
            "error_x": {
             "color": "#2a3f5f"
            },
            "error_y": {
             "color": "#2a3f5f"
            },
            "marker": {
             "line": {
              "color": "#E5ECF6",
              "width": 0.5
             },
             "pattern": {
              "fillmode": "overlay",
              "size": 10,
              "solidity": 0.2
             }
            },
            "type": "bar"
           }
          ],
          "barpolar": [
           {
            "marker": {
             "line": {
              "color": "#E5ECF6",
              "width": 0.5
             },
             "pattern": {
              "fillmode": "overlay",
              "size": 10,
              "solidity": 0.2
             }
            },
            "type": "barpolar"
           }
          ],
          "carpet": [
           {
            "aaxis": {
             "endlinecolor": "#2a3f5f",
             "gridcolor": "white",
             "linecolor": "white",
             "minorgridcolor": "white",
             "startlinecolor": "#2a3f5f"
            },
            "baxis": {
             "endlinecolor": "#2a3f5f",
             "gridcolor": "white",
             "linecolor": "white",
             "minorgridcolor": "white",
             "startlinecolor": "#2a3f5f"
            },
            "type": "carpet"
           }
          ],
          "choropleth": [
           {
            "colorbar": {
             "outlinewidth": 0,
             "ticks": ""
            },
            "type": "choropleth"
           }
          ],
          "contour": [
           {
            "colorbar": {
             "outlinewidth": 0,
             "ticks": ""
            },
            "colorscale": [
             [
              0,
              "#0d0887"
             ],
             [
              0.1111111111111111,
              "#46039f"
             ],
             [
              0.2222222222222222,
              "#7201a8"
             ],
             [
              0.3333333333333333,
              "#9c179e"
             ],
             [
              0.4444444444444444,
              "#bd3786"
             ],
             [
              0.5555555555555556,
              "#d8576b"
             ],
             [
              0.6666666666666666,
              "#ed7953"
             ],
             [
              0.7777777777777778,
              "#fb9f3a"
             ],
             [
              0.8888888888888888,
              "#fdca26"
             ],
             [
              1,
              "#f0f921"
             ]
            ],
            "type": "contour"
           }
          ],
          "contourcarpet": [
           {
            "colorbar": {
             "outlinewidth": 0,
             "ticks": ""
            },
            "type": "contourcarpet"
           }
          ],
          "heatmap": [
           {
            "colorbar": {
             "outlinewidth": 0,
             "ticks": ""
            },
            "colorscale": [
             [
              0,
              "#0d0887"
             ],
             [
              0.1111111111111111,
              "#46039f"
             ],
             [
              0.2222222222222222,
              "#7201a8"
             ],
             [
              0.3333333333333333,
              "#9c179e"
             ],
             [
              0.4444444444444444,
              "#bd3786"
             ],
             [
              0.5555555555555556,
              "#d8576b"
             ],
             [
              0.6666666666666666,
              "#ed7953"
             ],
             [
              0.7777777777777778,
              "#fb9f3a"
             ],
             [
              0.8888888888888888,
              "#fdca26"
             ],
             [
              1,
              "#f0f921"
             ]
            ],
            "type": "heatmap"
           }
          ],
          "heatmapgl": [
           {
            "colorbar": {
             "outlinewidth": 0,
             "ticks": ""
            },
            "colorscale": [
             [
              0,
              "#0d0887"
             ],
             [
              0.1111111111111111,
              "#46039f"
             ],
             [
              0.2222222222222222,
              "#7201a8"
             ],
             [
              0.3333333333333333,
              "#9c179e"
             ],
             [
              0.4444444444444444,
              "#bd3786"
             ],
             [
              0.5555555555555556,
              "#d8576b"
             ],
             [
              0.6666666666666666,
              "#ed7953"
             ],
             [
              0.7777777777777778,
              "#fb9f3a"
             ],
             [
              0.8888888888888888,
              "#fdca26"
             ],
             [
              1,
              "#f0f921"
             ]
            ],
            "type": "heatmapgl"
           }
          ],
          "histogram": [
           {
            "marker": {
             "pattern": {
              "fillmode": "overlay",
              "size": 10,
              "solidity": 0.2
             }
            },
            "type": "histogram"
           }
          ],
          "histogram2d": [
           {
            "colorbar": {
             "outlinewidth": 0,
             "ticks": ""
            },
            "colorscale": [
             [
              0,
              "#0d0887"
             ],
             [
              0.1111111111111111,
              "#46039f"
             ],
             [
              0.2222222222222222,
              "#7201a8"
             ],
             [
              0.3333333333333333,
              "#9c179e"
             ],
             [
              0.4444444444444444,
              "#bd3786"
             ],
             [
              0.5555555555555556,
              "#d8576b"
             ],
             [
              0.6666666666666666,
              "#ed7953"
             ],
             [
              0.7777777777777778,
              "#fb9f3a"
             ],
             [
              0.8888888888888888,
              "#fdca26"
             ],
             [
              1,
              "#f0f921"
             ]
            ],
            "type": "histogram2d"
           }
          ],
          "histogram2dcontour": [
           {
            "colorbar": {
             "outlinewidth": 0,
             "ticks": ""
            },
            "colorscale": [
             [
              0,
              "#0d0887"
             ],
             [
              0.1111111111111111,
              "#46039f"
             ],
             [
              0.2222222222222222,
              "#7201a8"
             ],
             [
              0.3333333333333333,
              "#9c179e"
             ],
             [
              0.4444444444444444,
              "#bd3786"
             ],
             [
              0.5555555555555556,
              "#d8576b"
             ],
             [
              0.6666666666666666,
              "#ed7953"
             ],
             [
              0.7777777777777778,
              "#fb9f3a"
             ],
             [
              0.8888888888888888,
              "#fdca26"
             ],
             [
              1,
              "#f0f921"
             ]
            ],
            "type": "histogram2dcontour"
           }
          ],
          "mesh3d": [
           {
            "colorbar": {
             "outlinewidth": 0,
             "ticks": ""
            },
            "type": "mesh3d"
           }
          ],
          "parcoords": [
           {
            "line": {
             "colorbar": {
              "outlinewidth": 0,
              "ticks": ""
             }
            },
            "type": "parcoords"
           }
          ],
          "pie": [
           {
            "automargin": true,
            "type": "pie"
           }
          ],
          "scatter": [
           {
            "fillpattern": {
             "fillmode": "overlay",
             "size": 10,
             "solidity": 0.2
            },
            "type": "scatter"
           }
          ],
          "scatter3d": [
           {
            "line": {
             "colorbar": {
              "outlinewidth": 0,
              "ticks": ""
             }
            },
            "marker": {
             "colorbar": {
              "outlinewidth": 0,
              "ticks": ""
             }
            },
            "type": "scatter3d"
           }
          ],
          "scattercarpet": [
           {
            "marker": {
             "colorbar": {
              "outlinewidth": 0,
              "ticks": ""
             }
            },
            "type": "scattercarpet"
           }
          ],
          "scattergeo": [
           {
            "marker": {
             "colorbar": {
              "outlinewidth": 0,
              "ticks": ""
             }
            },
            "type": "scattergeo"
           }
          ],
          "scattergl": [
           {
            "marker": {
             "colorbar": {
              "outlinewidth": 0,
              "ticks": ""
             }
            },
            "type": "scattergl"
           }
          ],
          "scattermapbox": [
           {
            "marker": {
             "colorbar": {
              "outlinewidth": 0,
              "ticks": ""
             }
            },
            "type": "scattermapbox"
           }
          ],
          "scatterpolar": [
           {
            "marker": {
             "colorbar": {
              "outlinewidth": 0,
              "ticks": ""
             }
            },
            "type": "scatterpolar"
           }
          ],
          "scatterpolargl": [
           {
            "marker": {
             "colorbar": {
              "outlinewidth": 0,
              "ticks": ""
             }
            },
            "type": "scatterpolargl"
           }
          ],
          "scatterternary": [
           {
            "marker": {
             "colorbar": {
              "outlinewidth": 0,
              "ticks": ""
             }
            },
            "type": "scatterternary"
           }
          ],
          "surface": [
           {
            "colorbar": {
             "outlinewidth": 0,
             "ticks": ""
            },
            "colorscale": [
             [
              0,
              "#0d0887"
             ],
             [
              0.1111111111111111,
              "#46039f"
             ],
             [
              0.2222222222222222,
              "#7201a8"
             ],
             [
              0.3333333333333333,
              "#9c179e"
             ],
             [
              0.4444444444444444,
              "#bd3786"
             ],
             [
              0.5555555555555556,
              "#d8576b"
             ],
             [
              0.6666666666666666,
              "#ed7953"
             ],
             [
              0.7777777777777778,
              "#fb9f3a"
             ],
             [
              0.8888888888888888,
              "#fdca26"
             ],
             [
              1,
              "#f0f921"
             ]
            ],
            "type": "surface"
           }
          ],
          "table": [
           {
            "cells": {
             "fill": {
              "color": "#EBF0F8"
             },
             "line": {
              "color": "white"
             }
            },
            "header": {
             "fill": {
              "color": "#C8D4E3"
             },
             "line": {
              "color": "white"
             }
            },
            "type": "table"
           }
          ]
         },
         "layout": {
          "annotationdefaults": {
           "arrowcolor": "#2a3f5f",
           "arrowhead": 0,
           "arrowwidth": 1
          },
          "autotypenumbers": "strict",
          "coloraxis": {
           "colorbar": {
            "outlinewidth": 0,
            "ticks": ""
           }
          },
          "colorscale": {
           "diverging": [
            [
             0,
             "#8e0152"
            ],
            [
             0.1,
             "#c51b7d"
            ],
            [
             0.2,
             "#de77ae"
            ],
            [
             0.3,
             "#f1b6da"
            ],
            [
             0.4,
             "#fde0ef"
            ],
            [
             0.5,
             "#f7f7f7"
            ],
            [
             0.6,
             "#e6f5d0"
            ],
            [
             0.7,
             "#b8e186"
            ],
            [
             0.8,
             "#7fbc41"
            ],
            [
             0.9,
             "#4d9221"
            ],
            [
             1,
             "#276419"
            ]
           ],
           "sequential": [
            [
             0,
             "#0d0887"
            ],
            [
             0.1111111111111111,
             "#46039f"
            ],
            [
             0.2222222222222222,
             "#7201a8"
            ],
            [
             0.3333333333333333,
             "#9c179e"
            ],
            [
             0.4444444444444444,
             "#bd3786"
            ],
            [
             0.5555555555555556,
             "#d8576b"
            ],
            [
             0.6666666666666666,
             "#ed7953"
            ],
            [
             0.7777777777777778,
             "#fb9f3a"
            ],
            [
             0.8888888888888888,
             "#fdca26"
            ],
            [
             1,
             "#f0f921"
            ]
           ],
           "sequentialminus": [
            [
             0,
             "#0d0887"
            ],
            [
             0.1111111111111111,
             "#46039f"
            ],
            [
             0.2222222222222222,
             "#7201a8"
            ],
            [
             0.3333333333333333,
             "#9c179e"
            ],
            [
             0.4444444444444444,
             "#bd3786"
            ],
            [
             0.5555555555555556,
             "#d8576b"
            ],
            [
             0.6666666666666666,
             "#ed7953"
            ],
            [
             0.7777777777777778,
             "#fb9f3a"
            ],
            [
             0.8888888888888888,
             "#fdca26"
            ],
            [
             1,
             "#f0f921"
            ]
           ]
          },
          "colorway": [
           "#636efa",
           "#EF553B",
           "#00cc96",
           "#ab63fa",
           "#FFA15A",
           "#19d3f3",
           "#FF6692",
           "#B6E880",
           "#FF97FF",
           "#FECB52"
          ],
          "font": {
           "color": "#2a3f5f"
          },
          "geo": {
           "bgcolor": "white",
           "lakecolor": "white",
           "landcolor": "#E5ECF6",
           "showlakes": true,
           "showland": true,
           "subunitcolor": "white"
          },
          "hoverlabel": {
           "align": "left"
          },
          "hovermode": "closest",
          "mapbox": {
           "style": "light"
          },
          "paper_bgcolor": "white",
          "plot_bgcolor": "#E5ECF6",
          "polar": {
           "angularaxis": {
            "gridcolor": "white",
            "linecolor": "white",
            "ticks": ""
           },
           "bgcolor": "#E5ECF6",
           "radialaxis": {
            "gridcolor": "white",
            "linecolor": "white",
            "ticks": ""
           }
          },
          "scene": {
           "xaxis": {
            "backgroundcolor": "#E5ECF6",
            "gridcolor": "white",
            "gridwidth": 2,
            "linecolor": "white",
            "showbackground": true,
            "ticks": "",
            "zerolinecolor": "white"
           },
           "yaxis": {
            "backgroundcolor": "#E5ECF6",
            "gridcolor": "white",
            "gridwidth": 2,
            "linecolor": "white",
            "showbackground": true,
            "ticks": "",
            "zerolinecolor": "white"
           },
           "zaxis": {
            "backgroundcolor": "#E5ECF6",
            "gridcolor": "white",
            "gridwidth": 2,
            "linecolor": "white",
            "showbackground": true,
            "ticks": "",
            "zerolinecolor": "white"
           }
          },
          "shapedefaults": {
           "line": {
            "color": "#2a3f5f"
           }
          },
          "ternary": {
           "aaxis": {
            "gridcolor": "white",
            "linecolor": "white",
            "ticks": ""
           },
           "baxis": {
            "gridcolor": "white",
            "linecolor": "white",
            "ticks": ""
           },
           "bgcolor": "#E5ECF6",
           "caxis": {
            "gridcolor": "white",
            "linecolor": "white",
            "ticks": ""
           }
          },
          "title": {
           "x": 0.05
          },
          "xaxis": {
           "automargin": true,
           "gridcolor": "white",
           "linecolor": "white",
           "ticks": "",
           "title": {
            "standoff": 15
           },
           "zerolinecolor": "white",
           "zerolinewidth": 2
          },
          "yaxis": {
           "automargin": true,
           "gridcolor": "white",
           "linecolor": "white",
           "ticks": "",
           "title": {
            "standoff": 15
           },
           "zerolinecolor": "white",
           "zerolinewidth": 2
          }
         }
        },
        "title": {
         "text": "标签值：6    1    0    0    4    4    4    2    6    2    2    8    6    5    1    0    7    1    2    8    7    7    6    3    3    2    4    1    3    0    3    4    "
        },
        "xaxis": {
         "anchor": "y",
         "domain": [
          0,
          1
         ]
        },
        "yaxis": {
         "anchor": "x",
         "domain": [
          0,
          1
         ]
        }
       }
      }
     },
     "metadata": {},
     "output_type": "display_data"
    }
   ],
   "source": [
    "import plotly.express as px\n",
    "\n",
    "#获取一些随机训练图像\n",
    "# 注意区别于直接trainloader和enumerate(trainloader, 0)\n",
    "# 这里取一个批次的值，iter和next配套使用\n",
    "dataiter = iter(trainloader)\n",
    "images, labels = next(dataiter)\n",
    "\n",
    "# make_grid函数把4维的数据拼接为3维的rgb图像(首位是3),默认padding是2，pad_value=0\n",
    "images = torchvision.utils.make_grid(images, pad_value=0.5)\n",
    "fig = px.imshow(images.permute(1, 2, 0), 0, 1)\n",
    "# 打印标签\n",
    "fig.update_layout(title_text=\"标签值：\" + \"\".join(f\"{classes[labels[j]]:5s}\"\n",
    "                                              for j in range(batch_size)))\n",
    "fig.show()\n"
   ]
  }
 ],
 "metadata": {
  "kernelspec": {
   "display_name": "Python 3.8.15 ('pytorch')",
   "language": "python",
   "name": "python3"
  },
  "language_info": {
   "codemirror_mode": {
    "name": "ipython",
    "version": 3
   },
   "file_extension": ".py",
   "mimetype": "text/x-python",
   "name": "python",
   "nbconvert_exporter": "python",
   "pygments_lexer": "ipython3",
   "version": "3.8.15"
  },
  "orig_nbformat": 4,
  "vscode": {
   "interpreter": {
    "hash": "71342f419acc3ba6ae382518c4ba2a9e6f9bd8751a76a463bc8e77674675b221"
   }
  }
 },
 "nbformat": 4,
 "nbformat_minor": 2
}
